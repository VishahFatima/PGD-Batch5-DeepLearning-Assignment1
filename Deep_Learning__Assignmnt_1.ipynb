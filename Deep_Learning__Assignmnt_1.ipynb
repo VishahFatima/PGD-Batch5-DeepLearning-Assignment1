{
  "nbformat": 4,
  "nbformat_minor": 0,
  "metadata": {
    "colab": {
      "provenance": [],
      "gpuType": "V28"
    },
    "kernelspec": {
      "name": "python3",
      "display_name": "Python 3"
    },
    "language_info": {
      "name": "python"
    },
    "accelerator": "TPU"
  },
  "cells": [
    {
      "cell_type": "markdown",
      "source": [
        "\n",
        "Q1: Explore these topics\n",
        "\n",
        "-\n",
        "Gradient Descent & Types of Gradient Descent\n",
        "\n",
        "- Validation set & Validation loss\n",
        "\n",
        "# **Gradient Descent:**\n",
        "Gradient Descent is a commonly used optimizational algorithm in machine learning models & neural networks. It trains machine learning models by minimizing errors between predicted value & actual value.\n",
        "\n",
        "# **Types of Gradient Descent**\n",
        "\n",
        "1. Batch Gradient Descent:\n",
        "   It updates the model's parameters by computing the average gradient of the error for the entire training dataset in each iteration (epoch).\n",
        "\n",
        "2. Stochastic Gradient Descent:\n",
        "   It updates the model's parameters by computing the gradient of the error for each individual training example and adjusting the parameters immediately.\n",
        "\n",
        "3. Mini-Batch Gradient Descent:\n",
        "   It updates the model's parameters by computing the gradient of the error for small, random subsets (mini-batches) of the training data and adjusting the parameters for each mini-batch.\n",
        "\n",
        "# **Validation Set:**\n",
        "A validation set is a subset of the training data used to evaluate the performance of a model during training and to tune hyperparameters without affecting the training process.\n",
        "\n",
        "# **Validation Loss:**\n",
        "Validation loss is the error calculated on the validation set, which helps monitor the model's performance and prevents overfitting by showing how well the model generalizes to unseen data.\n"
      ],
      "metadata": {
        "id": "aceJ3z8i3nQR"
      }
    },
    {
      "cell_type": "markdown",
      "source": [
        "\n",
        "Q2. Create a MLP model step by step as we discussed in class & load tips data from Seaborn Library."
      ],
      "metadata": {
        "id": "E7z2RFN1-Z9Y"
      }
    },
    {
      "cell_type": "code",
      "source": [
        "import pandas as pd\n",
        "import seaborn as sns\n",
        "import numpy as np\n",
        "from sklearn.model_selection import train_test_split\n",
        "from sklearn.preprocessing import StandardScaler, LabelEncoder\n",
        "from tensorflow.keras.models import Sequential\n",
        "from tensorflow.keras.layers import Dense\n",
        "from tensorflow.keras.utils import to_categorical"
      ],
      "metadata": {
        "id": "7OIlV8gKCsS4"
      },
      "execution_count": 1,
      "outputs": []
    },
    {
      "cell_type": "code",
      "source": [
        "tips = sns.load_dataset('tips')\n",
        "print(tips.head())"
      ],
      "metadata": {
        "colab": {
          "base_uri": "https://localhost:8080/"
        },
        "id": "2PjEJ9U-Ec-h",
        "outputId": "98a44289-946b-4f74-ef8d-f8e9fdc7e2f2"
      },
      "execution_count": 2,
      "outputs": [
        {
          "output_type": "stream",
          "name": "stdout",
          "text": [
            "   total_bill   tip     sex smoker  day    time  size\n",
            "0       16.99  1.01  Female     No  Sun  Dinner     2\n",
            "1       10.34  1.66    Male     No  Sun  Dinner     3\n",
            "2       21.01  3.50    Male     No  Sun  Dinner     3\n",
            "3       23.68  3.31    Male     No  Sun  Dinner     2\n",
            "4       24.59  3.61  Female     No  Sun  Dinner     4\n"
          ]
        }
      ]
    },
    {
      "cell_type": "code",
      "source": [
        "# convert categorical variables into numeric using one-hot coding\n",
        "tips = pd.get_dummies(tips, columns=['sex', 'smoker', 'day', 'time'], drop_first=True)\n",
        "\n",
        "# Separate features and target variable\n",
        "X = tips.drop('tip', axis=1)\n",
        "y = tips['tip']\n",
        "\n",
        "# Standardize the features\n",
        "scaler = StandardScaler()\n",
        "X_scaled = scaler.fit_transform(X)\n",
        "\n",
        "# Split the data into training and testing sets\n",
        "X_train, X_test, y_train, y_test = train_test_split(X_scaled, y, test_size=0.2, random_state=42)\n",
        "\n",
        "# Standardize the features\n",
        "scaler = StandardScaler()\n",
        "X_train = scaler.fit_transform(X_train) # Fit on training data and transform\n",
        "X_test = scaler.transform(X_test) # Transform the test data"
      ],
      "metadata": {
        "id": "j-DPQ36OE5mf"
      },
      "execution_count": 3,
      "outputs": []
    },
    {
      "cell_type": "code",
      "source": [
        "# Create the model\n",
        "model = Sequential()\n",
        "\n",
        "# Input layer and first hidden layer\n",
        "model.add(Dense(64, activation='relu', input_shape=(X_train.shape[1],)))\n",
        "\n",
        "# Second hidden layer\n",
        "model.add(Dense(32, activation='relu'))\n",
        "\n",
        "# Output layer\n",
        "model.add(Dense(1))  # Regression problem, hence no activation function\n",
        "\n",
        "# Compile the model\n",
        "model.compile(optimizer='adam', loss='mse', metrics=['mae'])"
      ],
      "metadata": {
        "id": "jjxtoxxXF2DS"
      },
      "execution_count": 4,
      "outputs": []
    },
    {
      "cell_type": "code",
      "source": [
        "# Train the model\n",
        "history = model.fit(X_train, y_train, validation_split=0.2, epochs=100, batch_size=32, verbose=1)"
      ],
      "metadata": {
        "colab": {
          "base_uri": "https://localhost:8080/"
        },
        "id": "kjGxZmrxGITd",
        "outputId": "17d77b12-53ea-4af5-924f-47ea2e6c5528"
      },
      "execution_count": 5,
      "outputs": [
        {
          "output_type": "stream",
          "name": "stdout",
          "text": [
            "Epoch 1/100\n",
            "5/5 [==============================] - 1s 53ms/step - loss: 11.7213 - mae: 3.0856 - val_loss: 8.4016 - val_mae: 2.5808\n",
            "Epoch 2/100\n",
            "5/5 [==============================] - 0s 12ms/step - loss: 10.1526 - mae: 2.8168 - val_loss: 7.2663 - val_mae: 2.3369\n",
            "Epoch 3/100\n",
            "5/5 [==============================] - 0s 11ms/step - loss: 8.7703 - mae: 2.5527 - val_loss: 6.2581 - val_mae: 2.1123\n",
            "Epoch 4/100\n",
            "5/5 [==============================] - 0s 12ms/step - loss: 7.5718 - mae: 2.2987 - val_loss: 5.3220 - val_mae: 1.9068\n",
            "Epoch 5/100\n",
            "5/5 [==============================] - 0s 12ms/step - loss: 6.3501 - mae: 2.0346 - val_loss: 4.4928 - val_mae: 1.7158\n",
            "Epoch 6/100\n",
            "5/5 [==============================] - 0s 12ms/step - loss: 5.3501 - mae: 1.7970 - val_loss: 3.7705 - val_mae: 1.5339\n",
            "Epoch 7/100\n",
            "5/5 [==============================] - 0s 12ms/step - loss: 4.4474 - mae: 1.5811 - val_loss: 3.1667 - val_mae: 1.3883\n",
            "Epoch 8/100\n",
            "5/5 [==============================] - 0s 12ms/step - loss: 3.6099 - mae: 1.3924 - val_loss: 2.6955 - val_mae: 1.2758\n",
            "Epoch 9/100\n",
            "5/5 [==============================] - 0s 12ms/step - loss: 2.9321 - mae: 1.2277 - val_loss: 2.3434 - val_mae: 1.2247\n",
            "Epoch 10/100\n",
            "5/5 [==============================] - 0s 12ms/step - loss: 2.4024 - mae: 1.1034 - val_loss: 2.1234 - val_mae: 1.2049\n",
            "Epoch 11/100\n",
            "5/5 [==============================] - 0s 12ms/step - loss: 2.0153 - mae: 1.0213 - val_loss: 2.0095 - val_mae: 1.1811\n",
            "Epoch 12/100\n",
            "5/5 [==============================] - 0s 12ms/step - loss: 1.6983 - mae: 0.9528 - val_loss: 1.9616 - val_mae: 1.1511\n",
            "Epoch 13/100\n",
            "5/5 [==============================] - 0s 12ms/step - loss: 1.5066 - mae: 0.9167 - val_loss: 1.9433 - val_mae: 1.1300\n",
            "Epoch 14/100\n",
            "5/5 [==============================] - 0s 11ms/step - loss: 1.4040 - mae: 0.8907 - val_loss: 1.9431 - val_mae: 1.1099\n",
            "Epoch 15/100\n",
            "5/5 [==============================] - 0s 11ms/step - loss: 1.3040 - mae: 0.8595 - val_loss: 1.9298 - val_mae: 1.0970\n",
            "Epoch 16/100\n",
            "5/5 [==============================] - 0s 11ms/step - loss: 1.2354 - mae: 0.8328 - val_loss: 1.9008 - val_mae: 1.0845\n",
            "Epoch 17/100\n",
            "5/5 [==============================] - 0s 11ms/step - loss: 1.1800 - mae: 0.8063 - val_loss: 1.8757 - val_mae: 1.0770\n",
            "Epoch 18/100\n",
            "5/5 [==============================] - 0s 11ms/step - loss: 1.1469 - mae: 0.7899 - val_loss: 1.8414 - val_mae: 1.0668\n",
            "Epoch 19/100\n",
            "5/5 [==============================] - 0s 12ms/step - loss: 1.1029 - mae: 0.7721 - val_loss: 1.8298 - val_mae: 1.0608\n",
            "Epoch 20/100\n",
            "5/5 [==============================] - 0s 11ms/step - loss: 1.0683 - mae: 0.7572 - val_loss: 1.8045 - val_mae: 1.0519\n",
            "Epoch 21/100\n",
            "5/5 [==============================] - 0s 11ms/step - loss: 1.0398 - mae: 0.7456 - val_loss: 1.7866 - val_mae: 1.0445\n",
            "Epoch 22/100\n",
            "5/5 [==============================] - 0s 11ms/step - loss: 1.0096 - mae: 0.7374 - val_loss: 1.7684 - val_mae: 1.0382\n",
            "Epoch 23/100\n",
            "5/5 [==============================] - 0s 12ms/step - loss: 0.9866 - mae: 0.7304 - val_loss: 1.7579 - val_mae: 1.0335\n",
            "Epoch 24/100\n",
            "5/5 [==============================] - 0s 12ms/step - loss: 0.9678 - mae: 0.7273 - val_loss: 1.7640 - val_mae: 1.0320\n",
            "Epoch 25/100\n",
            "5/5 [==============================] - 0s 11ms/step - loss: 0.9390 - mae: 0.7187 - val_loss: 1.7594 - val_mae: 1.0285\n",
            "Epoch 26/100\n",
            "5/5 [==============================] - 0s 12ms/step - loss: 0.9243 - mae: 0.7154 - val_loss: 1.7554 - val_mae: 1.0247\n",
            "Epoch 27/100\n",
            "5/5 [==============================] - 0s 11ms/step - loss: 0.9082 - mae: 0.7112 - val_loss: 1.7418 - val_mae: 1.0189\n",
            "Epoch 28/100\n",
            "5/5 [==============================] - 0s 11ms/step - loss: 0.8905 - mae: 0.7075 - val_loss: 1.7464 - val_mae: 1.0178\n",
            "Epoch 29/100\n",
            "5/5 [==============================] - 0s 12ms/step - loss: 0.8737 - mae: 0.7017 - val_loss: 1.7425 - val_mae: 1.0142\n",
            "Epoch 30/100\n",
            "5/5 [==============================] - 0s 11ms/step - loss: 0.8614 - mae: 0.6967 - val_loss: 1.7293 - val_mae: 1.0089\n",
            "Epoch 31/100\n",
            "5/5 [==============================] - 0s 10ms/step - loss: 0.8454 - mae: 0.6920 - val_loss: 1.7255 - val_mae: 1.0055\n",
            "Epoch 32/100\n",
            "5/5 [==============================] - 0s 10ms/step - loss: 0.8358 - mae: 0.6880 - val_loss: 1.7205 - val_mae: 1.0035\n",
            "Epoch 33/100\n",
            "5/5 [==============================] - 0s 11ms/step - loss: 0.8244 - mae: 0.6836 - val_loss: 1.7196 - val_mae: 1.0019\n",
            "Epoch 34/100\n",
            "5/5 [==============================] - 0s 11ms/step - loss: 0.8120 - mae: 0.6789 - val_loss: 1.7245 - val_mae: 1.0025\n",
            "Epoch 35/100\n",
            "5/5 [==============================] - 0s 11ms/step - loss: 0.8042 - mae: 0.6783 - val_loss: 1.7351 - val_mae: 1.0046\n",
            "Epoch 36/100\n",
            "5/5 [==============================] - 0s 11ms/step - loss: 0.7946 - mae: 0.6735 - val_loss: 1.7342 - val_mae: 1.0033\n",
            "Epoch 37/100\n",
            "5/5 [==============================] - 0s 11ms/step - loss: 0.7864 - mae: 0.6689 - val_loss: 1.7232 - val_mae: 0.9995\n",
            "Epoch 38/100\n",
            "5/5 [==============================] - 0s 11ms/step - loss: 0.7792 - mae: 0.6639 - val_loss: 1.7354 - val_mae: 1.0023\n",
            "Epoch 39/100\n",
            "5/5 [==============================] - 0s 11ms/step - loss: 0.7684 - mae: 0.6608 - val_loss: 1.7290 - val_mae: 1.0000\n",
            "Epoch 40/100\n",
            "5/5 [==============================] - 0s 11ms/step - loss: 0.7620 - mae: 0.6573 - val_loss: 1.7219 - val_mae: 0.9971\n",
            "Epoch 41/100\n",
            "5/5 [==============================] - 0s 10ms/step - loss: 0.7546 - mae: 0.6538 - val_loss: 1.7216 - val_mae: 0.9959\n",
            "Epoch 42/100\n",
            "5/5 [==============================] - 0s 11ms/step - loss: 0.7488 - mae: 0.6513 - val_loss: 1.7339 - val_mae: 0.9983\n",
            "Epoch 43/100\n",
            "5/5 [==============================] - 0s 11ms/step - loss: 0.7423 - mae: 0.6491 - val_loss: 1.7285 - val_mae: 0.9957\n",
            "Epoch 44/100\n",
            "5/5 [==============================] - 0s 11ms/step - loss: 0.7349 - mae: 0.6458 - val_loss: 1.7367 - val_mae: 0.9978\n",
            "Epoch 45/100\n",
            "5/5 [==============================] - 0s 11ms/step - loss: 0.7302 - mae: 0.6442 - val_loss: 1.7472 - val_mae: 1.0001\n",
            "Epoch 46/100\n",
            "5/5 [==============================] - 0s 11ms/step - loss: 0.7254 - mae: 0.6428 - val_loss: 1.7321 - val_mae: 0.9960\n",
            "Epoch 47/100\n",
            "5/5 [==============================] - 0s 11ms/step - loss: 0.7181 - mae: 0.6384 - val_loss: 1.7374 - val_mae: 0.9966\n",
            "Epoch 48/100\n",
            "5/5 [==============================] - 0s 11ms/step - loss: 0.7102 - mae: 0.6342 - val_loss: 1.7384 - val_mae: 0.9967\n",
            "Epoch 49/100\n",
            "5/5 [==============================] - 0s 11ms/step - loss: 0.7106 - mae: 0.6339 - val_loss: 1.7437 - val_mae: 0.9990\n",
            "Epoch 50/100\n",
            "5/5 [==============================] - 0s 11ms/step - loss: 0.7000 - mae: 0.6303 - val_loss: 1.7522 - val_mae: 1.0010\n",
            "Epoch 51/100\n",
            "5/5 [==============================] - 0s 11ms/step - loss: 0.6946 - mae: 0.6281 - val_loss: 1.7471 - val_mae: 0.9993\n",
            "Epoch 52/100\n",
            "5/5 [==============================] - 0s 11ms/step - loss: 0.6908 - mae: 0.6264 - val_loss: 1.7442 - val_mae: 0.9983\n",
            "Epoch 53/100\n",
            "5/5 [==============================] - 0s 11ms/step - loss: 0.6831 - mae: 0.6235 - val_loss: 1.7488 - val_mae: 0.9995\n",
            "Epoch 54/100\n",
            "5/5 [==============================] - 0s 11ms/step - loss: 0.6812 - mae: 0.6225 - val_loss: 1.7563 - val_mae: 1.0008\n",
            "Epoch 55/100\n",
            "5/5 [==============================] - 0s 11ms/step - loss: 0.6756 - mae: 0.6196 - val_loss: 1.7674 - val_mae: 1.0034\n",
            "Epoch 56/100\n",
            "5/5 [==============================] - 0s 11ms/step - loss: 0.6709 - mae: 0.6176 - val_loss: 1.7648 - val_mae: 1.0022\n",
            "Epoch 57/100\n",
            "5/5 [==============================] - 0s 12ms/step - loss: 0.6672 - mae: 0.6164 - val_loss: 1.7709 - val_mae: 1.0035\n",
            "Epoch 58/100\n",
            "5/5 [==============================] - 0s 11ms/step - loss: 0.6612 - mae: 0.6148 - val_loss: 1.7742 - val_mae: 1.0047\n",
            "Epoch 59/100\n",
            "5/5 [==============================] - 0s 11ms/step - loss: 0.6584 - mae: 0.6129 - val_loss: 1.7775 - val_mae: 1.0060\n",
            "Epoch 60/100\n",
            "5/5 [==============================] - 0s 11ms/step - loss: 0.6528 - mae: 0.6104 - val_loss: 1.7744 - val_mae: 1.0045\n",
            "Epoch 61/100\n",
            "5/5 [==============================] - 0s 12ms/step - loss: 0.6494 - mae: 0.6072 - val_loss: 1.7707 - val_mae: 1.0031\n",
            "Epoch 62/100\n",
            "5/5 [==============================] - 0s 11ms/step - loss: 0.6457 - mae: 0.6063 - val_loss: 1.7782 - val_mae: 1.0049\n",
            "Epoch 63/100\n",
            "5/5 [==============================] - 0s 12ms/step - loss: 0.6414 - mae: 0.6035 - val_loss: 1.7777 - val_mae: 1.0037\n",
            "Epoch 64/100\n",
            "5/5 [==============================] - 0s 12ms/step - loss: 0.6382 - mae: 0.6024 - val_loss: 1.7880 - val_mae: 1.0078\n",
            "Epoch 65/100\n",
            "5/5 [==============================] - 0s 11ms/step - loss: 0.6363 - mae: 0.6013 - val_loss: 1.7908 - val_mae: 1.0113\n",
            "Epoch 66/100\n",
            "5/5 [==============================] - 0s 11ms/step - loss: 0.6328 - mae: 0.5994 - val_loss: 1.7892 - val_mae: 1.0102\n",
            "Epoch 67/100\n",
            "5/5 [==============================] - 0s 10ms/step - loss: 0.6283 - mae: 0.5966 - val_loss: 1.7879 - val_mae: 1.0091\n",
            "Epoch 68/100\n",
            "5/5 [==============================] - 0s 10ms/step - loss: 0.6267 - mae: 0.5961 - val_loss: 1.8029 - val_mae: 1.0141\n",
            "Epoch 69/100\n",
            "5/5 [==============================] - 0s 11ms/step - loss: 0.6243 - mae: 0.5962 - val_loss: 1.7984 - val_mae: 1.0111\n",
            "Epoch 70/100\n",
            "5/5 [==============================] - 0s 11ms/step - loss: 0.6229 - mae: 0.5945 - val_loss: 1.8006 - val_mae: 1.0121\n",
            "Epoch 71/100\n",
            "5/5 [==============================] - 0s 11ms/step - loss: 0.6180 - mae: 0.5922 - val_loss: 1.8101 - val_mae: 1.0138\n",
            "Epoch 72/100\n",
            "5/5 [==============================] - 0s 11ms/step - loss: 0.6160 - mae: 0.5912 - val_loss: 1.8120 - val_mae: 1.0147\n",
            "Epoch 73/100\n",
            "5/5 [==============================] - 0s 10ms/step - loss: 0.6124 - mae: 0.5901 - val_loss: 1.8136 - val_mae: 1.0166\n",
            "Epoch 74/100\n",
            "5/5 [==============================] - 0s 10ms/step - loss: 0.6149 - mae: 0.5902 - val_loss: 1.7972 - val_mae: 1.0093\n",
            "Epoch 75/100\n",
            "5/5 [==============================] - 0s 11ms/step - loss: 0.6079 - mae: 0.5853 - val_loss: 1.8126 - val_mae: 1.0159\n",
            "Epoch 76/100\n",
            "5/5 [==============================] - 0s 11ms/step - loss: 0.6083 - mae: 0.5869 - val_loss: 1.8276 - val_mae: 1.0207\n",
            "Epoch 77/100\n",
            "5/5 [==============================] - 0s 12ms/step - loss: 0.6036 - mae: 0.5852 - val_loss: 1.8299 - val_mae: 1.0226\n",
            "Epoch 78/100\n",
            "5/5 [==============================] - 0s 11ms/step - loss: 0.6052 - mae: 0.5854 - val_loss: 1.8354 - val_mae: 1.0238\n",
            "Epoch 79/100\n",
            "5/5 [==============================] - 0s 12ms/step - loss: 0.5979 - mae: 0.5832 - val_loss: 1.8271 - val_mae: 1.0206\n",
            "Epoch 80/100\n",
            "5/5 [==============================] - 0s 12ms/step - loss: 0.5974 - mae: 0.5803 - val_loss: 1.8195 - val_mae: 1.0181\n",
            "Epoch 81/100\n",
            "5/5 [==============================] - 0s 11ms/step - loss: 0.5951 - mae: 0.5787 - val_loss: 1.8214 - val_mae: 1.0183\n",
            "Epoch 82/100\n",
            "5/5 [==============================] - 0s 11ms/step - loss: 0.5920 - mae: 0.5782 - val_loss: 1.8323 - val_mae: 1.0223\n",
            "Epoch 83/100\n",
            "5/5 [==============================] - 0s 10ms/step - loss: 0.5930 - mae: 0.5797 - val_loss: 1.8416 - val_mae: 1.0251\n",
            "Epoch 84/100\n",
            "5/5 [==============================] - 0s 11ms/step - loss: 0.5907 - mae: 0.5779 - val_loss: 1.8373 - val_mae: 1.0235\n",
            "Epoch 85/100\n",
            "5/5 [==============================] - 0s 11ms/step - loss: 0.5871 - mae: 0.5754 - val_loss: 1.8395 - val_mae: 1.0249\n",
            "Epoch 86/100\n",
            "5/5 [==============================] - 0s 11ms/step - loss: 0.5889 - mae: 0.5769 - val_loss: 1.8177 - val_mae: 1.0171\n",
            "Epoch 87/100\n",
            "5/5 [==============================] - 0s 11ms/step - loss: 0.5832 - mae: 0.5738 - val_loss: 1.8324 - val_mae: 1.0210\n",
            "Epoch 88/100\n",
            "5/5 [==============================] - 0s 11ms/step - loss: 0.5815 - mae: 0.5733 - val_loss: 1.8352 - val_mae: 1.0206\n",
            "Epoch 89/100\n",
            "5/5 [==============================] - 0s 9ms/step - loss: 0.5801 - mae: 0.5719 - val_loss: 1.8519 - val_mae: 1.0283\n",
            "Epoch 90/100\n",
            "5/5 [==============================] - 0s 12ms/step - loss: 0.5795 - mae: 0.5727 - val_loss: 1.8670 - val_mae: 1.0334\n",
            "Epoch 91/100\n",
            "5/5 [==============================] - 0s 11ms/step - loss: 0.5737 - mae: 0.5672 - val_loss: 1.8513 - val_mae: 1.0265\n",
            "Epoch 92/100\n",
            "5/5 [==============================] - 0s 10ms/step - loss: 0.5734 - mae: 0.5687 - val_loss: 1.8424 - val_mae: 1.0231\n",
            "Epoch 93/100\n",
            "5/5 [==============================] - 0s 11ms/step - loss: 0.5720 - mae: 0.5678 - val_loss: 1.8365 - val_mae: 1.0197\n",
            "Epoch 94/100\n",
            "5/5 [==============================] - 0s 11ms/step - loss: 0.5712 - mae: 0.5662 - val_loss: 1.8552 - val_mae: 1.0260\n",
            "Epoch 95/100\n",
            "5/5 [==============================] - 0s 10ms/step - loss: 0.5693 - mae: 0.5669 - val_loss: 1.8725 - val_mae: 1.0308\n",
            "Epoch 96/100\n",
            "5/5 [==============================] - 0s 10ms/step - loss: 0.5660 - mae: 0.5662 - val_loss: 1.8592 - val_mae: 1.0274\n",
            "Epoch 97/100\n",
            "5/5 [==============================] - 0s 11ms/step - loss: 0.5665 - mae: 0.5638 - val_loss: 1.8455 - val_mae: 1.0244\n",
            "Epoch 98/100\n",
            "5/5 [==============================] - 0s 11ms/step - loss: 0.5640 - mae: 0.5627 - val_loss: 1.8635 - val_mae: 1.0297\n",
            "Epoch 99/100\n",
            "5/5 [==============================] - 0s 11ms/step - loss: 0.5620 - mae: 0.5625 - val_loss: 1.8513 - val_mae: 1.0257\n",
            "Epoch 100/100\n",
            "5/5 [==============================] - 0s 11ms/step - loss: 0.5596 - mae: 0.5591 - val_loss: 1.8609 - val_mae: 1.0281\n"
          ]
        }
      ]
    },
    {
      "cell_type": "code",
      "source": [
        "# Evaluate the model on the test set\n",
        "y_pred = model.predict(X_test)\n",
        "print(\"Predictions: \", y_pred[:5])\n",
        "\n",
        "# Calculate and print accuracy or performance metric\n",
        "test_loss = model.evaluate(X_test, y_test, verbose=0)\n",
        "print(f\"Test Loss: {test_loss}\")"
      ],
      "metadata": {
        "colab": {
          "base_uri": "https://localhost:8080/"
        },
        "id": "CZ5HQwF4Gikk",
        "outputId": "c79ed72b-88de-4af3-bced-6ecfce56edc4"
      },
      "execution_count": 6,
      "outputs": [
        {
          "output_type": "stream",
          "name": "stdout",
          "text": [
            "2/2 [==============================] - 0s 3ms/step\n",
            "Predictions:  [[3.296719 ]\n",
            " [2.1733189]\n",
            " [4.088546 ]\n",
            " [2.8912961]\n",
            " [2.4351716]]\n",
            "Test Loss: [1.236374020576477, 0.8611935377120972]\n"
          ]
        }
      ]
    },
    {
      "cell_type": "code",
      "source": [
        "# Plotting training & validation loss values\n",
        "import matplotlib.pyplot as plt\n",
        "plt.plot(history.history['loss'])\n",
        "plt.plot(history.history['val_loss'])\n",
        "plt.title('Model loss')\n",
        "plt.xlabel('Epoch')\n",
        "plt.ylabel('Loss')\n",
        "plt.legend(['Training', 'Validation'], loc='upper right')\n",
        "plt.show()"
      ],
      "metadata": {
        "colab": {
          "base_uri": "https://localhost:8080/",
          "height": 472
        },
        "id": "o4sX44v_IhKJ",
        "outputId": "a61496b6-7195-4dba-9752-812ded980d9b"
      },
      "execution_count": 9,
      "outputs": [
        {
          "output_type": "display_data",
          "data": {
            "text/plain": [
              "<Figure size 640x480 with 1 Axes>"
            ],
            "image/png": "[encoded data removed]"
          },
          "metadata": {}
        }
      ]
    },
    {
      "cell_type": "code",
      "source": [],
      "metadata": {
        "id": "93V6NnljJUmA"
      },
      "execution_count": null,
      "outputs": []
    }
  ]
}